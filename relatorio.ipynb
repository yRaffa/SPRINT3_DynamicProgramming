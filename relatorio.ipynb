{
 "cells": [
  {
   "cell_type": "markdown",
   "id": "70553c4b",
   "metadata": {},
   "source": [
    "# **🌐 FIAP x DASA CHALLENGE 2025 - SPRINT 3**\n",
    "## 🐍 Dynamic Programing\n",
    "\n",
    "## 🧩 **DESAFIO:** Baixa Visibilidade no Apontamento de Consumo nas Unidades\n",
    "\n",
    "### **👥 Integrantes:**\n",
    "\n",
    "```\n",
    "RM 557709 | Augusto Ferreira Rogel de Souza (2ESA)\n",
    "RM 554823 | Heitor Anderson Prestes de Oliveira Filho (2ESA)\n",
    "RM 556668 | Lucca Ribeiro Cardinale (2ESA)\n",
    "RM 554445 | Mohamed Afif (2ESA)\n",
    "RM 554736 | Rafael Federici de Oliveira (2ESPH)\n",
    "```\n",
    "\n",
    "### **🎯 Objetivo do Relatório:**\n",
    "Comparar a eficiência dos algoritmos de busca e ordenação utilizados no projeto:\n",
    "\n",
    "**🔎 Algoritimos de Busca**\n",
    "- Busca Sequêncial\n",
    "- Busca Binária\n",
    "\n",
    "**🔃 Algoritimos de Ordenação**\n",
    "- Selection Sort\n",
    "- Merge Sort\n",
    "- Quick Sort"
   ]
  },
  {
   "cell_type": "markdown",
   "id": "4eb971ce",
   "metadata": {},
   "source": [
    "## **⬇️ IMPORTS:**"
   ]
  },
  {
   "cell_type": "code",
   "execution_count": null,
   "id": "47c2ba4f",
   "metadata": {},
   "outputs": [],
   "source": [
    "from utils.decorators import *\n",
    "from utils.buscas import *\n",
    "from utils.ordenacoes import *\n",
    "import random\n",
    "import pandas as pd"
   ]
  },
  {
   "cell_type": "markdown",
   "id": "c1a33d31",
   "metadata": {},
   "source": [
    "## **✅ TESTES:**"
   ]
  },
  {
   "cell_type": "code",
   "execution_count": null,
   "id": "a6f3ece1",
   "metadata": {},
   "outputs": [],
   "source": [
    "# Listas de teste\n",
    "lista_testes = {\n",
    "    \"Pequena\": random.sample(range(1000), 100),\n",
    "    \"Média\": random.sample(range(10000), 1000),\n",
    "    \"Grande\": random.sample(range(100000), 10000)\n",
    "}\n",
    "\n",
    "# Algoritmos a serem testados\n",
    "ordenacoes = {\n",
    "    \"Selection Sort\": selectionSort,\n",
    "    \"Merge Sort\": mergeSort,\n",
    "    \"Quick Sort\": quickSort\n",
    "}\n",
    "\n",
    "buscas = {\n",
    "    \"Sequencial\": buscaSequencial,\n",
    "    \"Binaria\": buscaBinaria\n",
    "}"
   ]
  },
  {
   "cell_type": "markdown",
   "id": "3c83f9a5",
   "metadata": {},
   "source": [
    "## **▶️ EXECUÇÃO:**"
   ]
  }
 ],
 "metadata": {
  "kernelspec": {
   "display_name": "Python 3",
   "language": "python",
   "name": "python3"
  },
  "language_info": {
   "codemirror_mode": {
    "name": "ipython",
    "version": 3
   },
   "file_extension": ".py",
   "mimetype": "text/x-python",
   "name": "python",
   "nbconvert_exporter": "python",
   "pygments_lexer": "ipython3",
   "version": "3.11.9"
  }
 },
 "nbformat": 4,
 "nbformat_minor": 5
}
